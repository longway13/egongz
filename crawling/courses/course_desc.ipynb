{
 "cells": [
  {
   "cell_type": "code",
   "execution_count": 22,
   "metadata": {},
   "outputs": [],
   "source": [
    "from selenium import webdriver\n",
    "from selenium.webdriver.common.keys import Keys\n",
    "from selenium.webdriver.chrome.options import Options\n",
    "from selenium.webdriver.common.by import By\n",
    "from selenium.webdriver.support.ui import WebDriverWait\n",
    "from selenium.webdriver.support import expected_conditions as EC\n",
    "from selenium.webdriver.common.action_chains import ActionChains\n",
    "from selenium.webdriver.common.actions.wheel_input import ScrollOrigin\n",
    "from selenium.common.exceptions import StaleElementReferenceException, ElementNotInteractableException,NoSuchElementException\n",
    "from browsermobproxy import Server\n",
    "import re\n",
    "import time\n",
    "import csv\n",
    "import json\n",
    "import hashlib"
   ]
  },
  {
   "cell_type": "code",
   "execution_count": 23,
   "id": "1b75c73f",
   "metadata": {},
   "outputs": [
    {
     "data": {
      "text/plain": [
       "{}"
      ]
     },
     "execution_count": 23,
     "metadata": {},
     "output_type": "execute_result"
    }
   ],
   "source": [
    "\n",
    "chrome_options = webdriver.ChromeOptions()\n",
    "chrome_options.add_experimental_option('detach',True)\n",
    "chrome_options.add_argument('--enable-logging')\n",
    "chrome_options.set_capability('goog:loggingPrefs', {'performance': 'ALL'})\n",
    "#log_entries = driver.get_log(\"performance\")\n",
    "driver = webdriver.Chrome(options=chrome_options)\n",
    "url = \"https://underwood1.yonsei.ac.kr/com/lgin/SsoCtr/initExtPageWork.do?link=handbList&locale=eng\"\n",
    "driver.get(url)\n",
    "driver.execute_cdp_cmd('Network.enable', {})\n"
   ]
  },
  {
   "cell_type": "code",
   "execution_count": 24,
   "id": "4dc96871",
   "metadata": {},
   "outputs": [],
   "source": [
    "# 대학(원) 분류 및 개설 학과 등등 조건 설정\n",
    "labels = driver.find_element(By.CLASS_NAME, \"cl-layout-content\")\n",
    "\n",
    "# 대학(원) 분류 선택 태그 id: uuid-5i\n",
    "classification_combobox = labels.find_element(By.ID, \"uuid-5i\")\n",
    "cc_combobox_button = classification_combobox.find_element(By.CLASS_NAME, \"cl-combobox-button\")\n",
    "opened_course_combobox = labels.find_element(By.ID, \"uuid-5k\")\n",
    "opened_course_button = opened_course_combobox.find_element(By.CLASS_NAME, \"cl-combobox-button\")\n",
    "\n",
    "# driver.execute_script(f'arguments[0].setAttribute(\"{attribute_name}\", \"{attribute_value}\")', element)\n",
    "\n",
    "\n",
    "# 개설학과 분류 선택 태그 id: uuid-5k\n"
   ]
  },
  {
   "cell_type": "code",
   "execution_count": 25,
   "id": "9627e3cd",
   "metadata": {},
   "outputs": [],
   "source": [
    "\n",
    "def get_courses():\n",
    "    parent_container = driver.find_element(By.CLASS_NAME, \"cl-grid-centersplit\")\n",
    "    child_elements = parent_container.find_elements(By.XPATH,\"./child::div\")[1]\n",
    "    child_elements = child_elements.find_element(By.XPATH,\"./child::div\")\n",
    "    child_elements = child_elements.find_element(By.XPATH,\"./child::div\")\n",
    "    child_elements = child_elements.find_element(By.XPATH,\"./child::div\")\n",
    "    child_elements = child_elements.find_element(By.XPATH,\"./child::div\")\n",
    "    scroll_origin = ScrollOrigin.from_element(child_elements)\n",
    "    courses = child_elements.find_elements(By.XPATH,'.//div[@role=\"row\"]')\n",
    "    return [courses, scroll_origin]\n",
    "    "
   ]
  },
  {
   "cell_type": "code",
   "execution_count": 26,
   "id": "dfa34223",
   "metadata": {},
   "outputs": [],
   "source": [
    "xpath_expression = f\"//*[contains(text(), '{\"조회\"}')]\"\n",
    "search_button = labels.find_elements(By.XPATH, xpath_expression)[0]\n",
    "\n",
    "\n",
    "# 8개씩 나오는데 내려가면서 다 봐야 함.     "
   ]
  },
  {
   "cell_type": "code",
   "execution_count": null,
   "id": "6e516cce",
   "metadata": {},
   "outputs": [],
   "source": []
  },
  {
   "cell_type": "code",
   "execution_count": 27,
   "id": "e6eef002",
   "metadata": {},
   "outputs": [],
   "source": [
    "# 총건수\n",
    "def get_search_nums():\n",
    "    search_div = driver.find_element(By.XPATH, '//div[@aria-label[contains(., \"총건수\")]]')\n",
    "    search_nums = search_div.get_attribute(\"aria-label\")\n",
    "    search_nums =  re.search(r'\\[([\\d]+)\\]', search_nums)\n",
    "    search_nums = int(search_nums.group(1))\n",
    "    return search_nums"
   ]
  },
  {
   "cell_type": "code",
   "execution_count": 28,
   "id": "6bc35529",
   "metadata": {},
   "outputs": [],
   "source": [
    "def generate_course_id(professor_name, subject_code):\n",
    "    # 문자열을 합쳐서 UTF-8로 인코딩\n",
    "    input_string = professor_name + subject_code\n",
    "    input_bytes = input_string.encode('utf-8')\n",
    "    # hashlib을 사용하여 해시 생성\n",
    "    hashed = hashlib.sha256(input_bytes).hexdigest()\n",
    "    # 원하는 형태의 ID로 가공 (예: 처음 8자리만 사용)\n",
    "    course_id = hashed[:10]\n",
    "    return course_id"
   ]
  },
  {
   "cell_type": "code",
   "execution_count": 29,
   "id": "fa4de873",
   "metadata": {},
   "outputs": [],
   "source": [
    "def course_desc(course):\n",
    "    columns = course.find_elements(By.XPATH, \"./*\")\n",
    "    # id\n",
    "    course_code = columns[7].text\n",
    "    instructor = columns[15].text\n",
    "    instructor = '-' if (instructor == '') else instructor\n",
    "    course_id = generate_course_id(instructor, course_code)\n",
    "    time.sleep(3)\n",
    "    columns[9].click()\n",
    "    time.sleep(3)\n",
    "    log_entries = driver.get_log(\"performance\")\n",
    "    response_result = ''\n",
    "    for entry in log_entries:\n",
    "        try:\n",
    "            message_obj = json.loads(entry.get(\"message\"))\n",
    "            message = message_obj.get(\"message\")\n",
    "            method = message.get(\"method\")\n",
    " \n",
    "            if method == 'Network.responseReceived':\n",
    "                response_url = message.get('params',{}).get('response',{}).get('url','')\n",
    "                request_id = message.get('params', {}).get('requestId', '')\n",
    "                if \"findSubjtDescList\" in response_url:\n",
    "                    response = driver.execute_cdp_cmd('Network.getResponseBody',{'requestId':request_id})\n",
    "                    response_body = response.get('body',{})\n",
    "                    response_result = json.loads(response_body)[\"_METADATA_\"][\"result\"]\n",
    "                    break\n",
    "                    \n",
    "                    \n",
    "                    \n",
    "\n",
    "        except Exception as e:\n",
    "            print(e)\n",
    "    time.sleep(2)\n",
    "    \n",
    "    # Perform actions with the found element (e.g., click)\n",
    "    try:\n",
    "        close_button = driver.find_element(By.XPATH,\"//*[text()='닫기']\")\n",
    "        driver.execute_script(\"arguments[0].click();\", close_button)\n",
    "    except  NoSuchElementException :\n",
    "        pass\n",
    "    finally:\n",
    "        time.sleep(1.5)\n",
    "        result = {\n",
    "            \"course_id\" : course_id,\n",
    "            \"course_data\" : response_result\n",
    "        }\n",
    "        \n",
    "        return result"
   ]
  },
  {
   "cell_type": "code",
   "execution_count": 30,
   "id": "92079b1c",
   "metadata": {},
   "outputs": [],
   "source": [
    "# 추출 템플릿 및 dictionary 함수화 시켜야 함. \n",
    "def extract_course(course):\n",
    "    columns = course.find_elements(By.XPATH, \"./*\")\n",
    "    semester = columns[1].text\n",
    "    campus = columns[2].text\n",
    "    major = columns[3].text\n",
    "    grade = columns[4].text\n",
    "    subject_type = columns[5].text\n",
    "    session = columns[6].text\n",
    "    course_code = columns[7].text\n",
    "    credits = columns[12].text\n",
    "    course_name = columns[13].text\n",
    "    is_cancelled = columns[14].text\n",
    "    instructor = columns[15].text\n",
    "    schedule = columns[16].text\n",
    "    classroom = columns[17].text\n",
    "\n",
    "    # columns[9] => 강의 정보\n",
    "    \n",
    "    course_info = {\n",
    "        'semester': semester,\n",
    "        'campus': campus,\n",
    "        'major': major,\n",
    "        'grade': grade,\n",
    "        'subject_type': subject_type,\n",
    "        'session': session,\n",
    "        'course_code': course_code,\n",
    "        'credits': credits,\n",
    "        'course_name': course_name,\n",
    "        'is_cancelled': is_cancelled,\n",
    "        'instructor': instructor,\n",
    "        'schedule': schedule,\n",
    "        'classroom': classroom\n",
    "    }\n",
    "\n",
    "\n",
    "    return course_info\n"
   ]
  },
  {
   "cell_type": "code",
   "execution_count": 11,
   "id": "8bb72fe3",
   "metadata": {},
   "outputs": [],
   "source": [
    "fieldnames = ['semester',\n",
    "                'campus',\n",
    "                'major',\n",
    "                'grade',\n",
    "                'subject_type',\n",
    "                'session',\n",
    "                'course_code',\n",
    "                'credits',\n",
    "                'course_name',\n",
    "                'is_cancelled',\n",
    "                'instructor',\n",
    "                'schedule',\n",
    "                'classroom']"
   ]
  },
  {
   "cell_type": "code",
   "execution_count": 31,
   "id": "8adea8b0",
   "metadata": {},
   "outputs": [],
   "source": [
    "course_data_fieldnames = ['course_id', 'course_data']"
   ]
  },
  {
   "cell_type": "code",
   "execution_count": 36,
   "id": "fede8f30",
   "metadata": {},
   "outputs": [
    {
     "name": "stdout",
     "output_type": "stream",
     "text": [
      "Section Completed ✅\n",
      "Section Completed ✅\n"
     ]
    },
    {
     "ename": "ElementClickInterceptedException",
     "evalue": "Message: element click intercepted: Element <div class=\"cl-grid-cell cl-grid-cell-inherit\" role=\"gridcell\" data-role=\"gridcell\" aria-colindex=\"10\" data-cellindex=\"24\" tabindex=\"-1\" style=\"box-sizing: border-box; display: inline-block; height: 30px; left: 445px; overflow: hidden; position: absolute; top: 30px; width: 35px;\">...</div> is not clickable at point (499, 627). Other element would receive the click: <div class=\"cl-overlay\" style=\"bottom:0;left:0;position:absolute;right:0;top:0;\" data-ndid=\"9uk\"></div>\n  (Session info: chrome=121.0.6167.85)\nStacktrace:\n0   chromedriver                        0x00000001053967dc chromedriver + 4040668\n1   chromedriver                        0x000000010538e9e0 chromedriver + 4008416\n2   chromedriver                        0x0000000105001870 chromedriver + 284784\n3   chromedriver                        0x000000010504af60 chromedriver + 585568\n4   chromedriver                        0x00000001050493f0 chromedriver + 578544\n5   chromedriver                        0x000000010504745c chromedriver + 570460\n6   chromedriver                        0x000000010504688c chromedriver + 567436\n7   chromedriver                        0x000000010503b4b8 chromedriver + 521400\n8   chromedriver                        0x000000010503aee8 chromedriver + 519912\n9   chromedriver                        0x000000010507f048 chromedriver + 798792\n10  chromedriver                        0x000000010503974c chromedriver + 513868\n11  chromedriver                        0x000000010503a044 chromedriver + 516164\n12  chromedriver                        0x000000010535ba04 chromedriver + 3799556\n13  chromedriver                        0x000000010535fee4 chromedriver + 3817188\n14  chromedriver                        0x0000000105344260 chromedriver + 3703392\n15  chromedriver                        0x0000000105360a2c chromedriver + 3820076\n16  chromedriver                        0x000000010533701c chromedriver + 3649564\n17  chromedriver                        0x000000010537de3c chromedriver + 3939900\n18  chromedriver                        0x000000010537dfb4 chromedriver + 3940276\n19  chromedriver                        0x000000010538e660 chromedriver + 4007520\n20  libsystem_pthread.dylib             0x000000018471d034 _pthread_start + 136\n21  libsystem_pthread.dylib             0x0000000184717e3c thread_start + 8\n",
     "output_type": "error",
     "traceback": [
      "\u001b[0;31m---------------------------------------------------------------------------\u001b[0m",
      "\u001b[0;31mElementClickInterceptedException\u001b[0m          Traceback (most recent call last)",
      "Cell \u001b[0;32mIn[36], line 40\u001b[0m\n\u001b[1;32m     38\u001b[0m \u001b[38;5;28;01mif\u001b[39;00m (course_idx \u001b[38;5;241m>\u001b[39m current_idx):\n\u001b[1;32m     39\u001b[0m     \u001b[38;5;28;01mtry\u001b[39;00m:\n\u001b[0;32m---> 40\u001b[0m         writer\u001b[38;5;241m.\u001b[39mwriterow(\u001b[43mcourse_desc\u001b[49m\u001b[43m(\u001b[49m\u001b[43mcourse\u001b[49m\u001b[43m)\u001b[49m)\n\u001b[1;32m     41\u001b[0m         current_idx \u001b[38;5;241m+\u001b[39m\u001b[38;5;241m=\u001b[39m \u001b[38;5;241m1\u001b[39m\n\u001b[1;32m     42\u001b[0m     \u001b[38;5;28;01mexcept\u001b[39;00m ElementNotInteractableException:\n",
      "Cell \u001b[0;32mIn[29], line 9\u001b[0m, in \u001b[0;36mcourse_desc\u001b[0;34m(course)\u001b[0m\n\u001b[1;32m      7\u001b[0m course_id \u001b[38;5;241m=\u001b[39m generate_course_id(instructor, course_code)\n\u001b[1;32m      8\u001b[0m time\u001b[38;5;241m.\u001b[39msleep(\u001b[38;5;241m3\u001b[39m)\n\u001b[0;32m----> 9\u001b[0m \u001b[43mcolumns\u001b[49m\u001b[43m[\u001b[49m\u001b[38;5;241;43m9\u001b[39;49m\u001b[43m]\u001b[49m\u001b[38;5;241;43m.\u001b[39;49m\u001b[43mclick\u001b[49m\u001b[43m(\u001b[49m\u001b[43m)\u001b[49m\n\u001b[1;32m     10\u001b[0m time\u001b[38;5;241m.\u001b[39msleep(\u001b[38;5;241m3\u001b[39m)\n\u001b[1;32m     11\u001b[0m log_entries \u001b[38;5;241m=\u001b[39m driver\u001b[38;5;241m.\u001b[39mget_log(\u001b[38;5;124m\"\u001b[39m\u001b[38;5;124mperformance\u001b[39m\u001b[38;5;124m\"\u001b[39m)\n",
      "File \u001b[0;32m~/Library/Caches/pypoetry/virtualenvs/course-desc-q4M4JPoh-py3.12/lib/python3.12/site-packages/selenium/webdriver/remote/webelement.py:94\u001b[0m, in \u001b[0;36mWebElement.click\u001b[0;34m(self)\u001b[0m\n\u001b[1;32m     92\u001b[0m \u001b[38;5;28;01mdef\u001b[39;00m \u001b[38;5;21mclick\u001b[39m(\u001b[38;5;28mself\u001b[39m) \u001b[38;5;241m-\u001b[39m\u001b[38;5;241m>\u001b[39m \u001b[38;5;28;01mNone\u001b[39;00m:\n\u001b[1;32m     93\u001b[0m \u001b[38;5;250m    \u001b[39m\u001b[38;5;124;03m\"\"\"Clicks the element.\"\"\"\u001b[39;00m\n\u001b[0;32m---> 94\u001b[0m     \u001b[38;5;28;43mself\u001b[39;49m\u001b[38;5;241;43m.\u001b[39;49m\u001b[43m_execute\u001b[49m\u001b[43m(\u001b[49m\u001b[43mCommand\u001b[49m\u001b[38;5;241;43m.\u001b[39;49m\u001b[43mCLICK_ELEMENT\u001b[49m\u001b[43m)\u001b[49m\n",
      "File \u001b[0;32m~/Library/Caches/pypoetry/virtualenvs/course-desc-q4M4JPoh-py3.12/lib/python3.12/site-packages/selenium/webdriver/remote/webelement.py:395\u001b[0m, in \u001b[0;36mWebElement._execute\u001b[0;34m(self, command, params)\u001b[0m\n\u001b[1;32m    393\u001b[0m     params \u001b[38;5;241m=\u001b[39m {}\n\u001b[1;32m    394\u001b[0m params[\u001b[38;5;124m\"\u001b[39m\u001b[38;5;124mid\u001b[39m\u001b[38;5;124m\"\u001b[39m] \u001b[38;5;241m=\u001b[39m \u001b[38;5;28mself\u001b[39m\u001b[38;5;241m.\u001b[39m_id\n\u001b[0;32m--> 395\u001b[0m \u001b[38;5;28;01mreturn\u001b[39;00m \u001b[38;5;28;43mself\u001b[39;49m\u001b[38;5;241;43m.\u001b[39;49m\u001b[43m_parent\u001b[49m\u001b[38;5;241;43m.\u001b[39;49m\u001b[43mexecute\u001b[49m\u001b[43m(\u001b[49m\u001b[43mcommand\u001b[49m\u001b[43m,\u001b[49m\u001b[43m \u001b[49m\u001b[43mparams\u001b[49m\u001b[43m)\u001b[49m\n",
      "File \u001b[0;32m~/Library/Caches/pypoetry/virtualenvs/course-desc-q4M4JPoh-py3.12/lib/python3.12/site-packages/selenium/webdriver/remote/webdriver.py:347\u001b[0m, in \u001b[0;36mWebDriver.execute\u001b[0;34m(self, driver_command, params)\u001b[0m\n\u001b[1;32m    345\u001b[0m response \u001b[38;5;241m=\u001b[39m \u001b[38;5;28mself\u001b[39m\u001b[38;5;241m.\u001b[39mcommand_executor\u001b[38;5;241m.\u001b[39mexecute(driver_command, params)\n\u001b[1;32m    346\u001b[0m \u001b[38;5;28;01mif\u001b[39;00m response:\n\u001b[0;32m--> 347\u001b[0m     \u001b[38;5;28;43mself\u001b[39;49m\u001b[38;5;241;43m.\u001b[39;49m\u001b[43merror_handler\u001b[49m\u001b[38;5;241;43m.\u001b[39;49m\u001b[43mcheck_response\u001b[49m\u001b[43m(\u001b[49m\u001b[43mresponse\u001b[49m\u001b[43m)\u001b[49m\n\u001b[1;32m    348\u001b[0m     response[\u001b[38;5;124m\"\u001b[39m\u001b[38;5;124mvalue\u001b[39m\u001b[38;5;124m\"\u001b[39m] \u001b[38;5;241m=\u001b[39m \u001b[38;5;28mself\u001b[39m\u001b[38;5;241m.\u001b[39m_unwrap_value(response\u001b[38;5;241m.\u001b[39mget(\u001b[38;5;124m\"\u001b[39m\u001b[38;5;124mvalue\u001b[39m\u001b[38;5;124m\"\u001b[39m, \u001b[38;5;28;01mNone\u001b[39;00m))\n\u001b[1;32m    349\u001b[0m     \u001b[38;5;28;01mreturn\u001b[39;00m response\n",
      "File \u001b[0;32m~/Library/Caches/pypoetry/virtualenvs/course-desc-q4M4JPoh-py3.12/lib/python3.12/site-packages/selenium/webdriver/remote/errorhandler.py:229\u001b[0m, in \u001b[0;36mErrorHandler.check_response\u001b[0;34m(self, response)\u001b[0m\n\u001b[1;32m    227\u001b[0m         alert_text \u001b[38;5;241m=\u001b[39m value[\u001b[38;5;124m\"\u001b[39m\u001b[38;5;124malert\u001b[39m\u001b[38;5;124m\"\u001b[39m]\u001b[38;5;241m.\u001b[39mget(\u001b[38;5;124m\"\u001b[39m\u001b[38;5;124mtext\u001b[39m\u001b[38;5;124m\"\u001b[39m)\n\u001b[1;32m    228\u001b[0m     \u001b[38;5;28;01mraise\u001b[39;00m exception_class(message, screen, stacktrace, alert_text)  \u001b[38;5;66;03m# type: ignore[call-arg]  # mypy is not smart enough here\u001b[39;00m\n\u001b[0;32m--> 229\u001b[0m \u001b[38;5;28;01mraise\u001b[39;00m exception_class(message, screen, stacktrace)\n",
      "\u001b[0;31mElementClickInterceptedException\u001b[0m: Message: element click intercepted: Element <div class=\"cl-grid-cell cl-grid-cell-inherit\" role=\"gridcell\" data-role=\"gridcell\" aria-colindex=\"10\" data-cellindex=\"24\" tabindex=\"-1\" style=\"box-sizing: border-box; display: inline-block; height: 30px; left: 445px; overflow: hidden; position: absolute; top: 30px; width: 35px;\">...</div> is not clickable at point (499, 627). Other element would receive the click: <div class=\"cl-overlay\" style=\"bottom:0;left:0;position:absolute;right:0;top:0;\" data-ndid=\"9uk\"></div>\n  (Session info: chrome=121.0.6167.85)\nStacktrace:\n0   chromedriver                        0x00000001053967dc chromedriver + 4040668\n1   chromedriver                        0x000000010538e9e0 chromedriver + 4008416\n2   chromedriver                        0x0000000105001870 chromedriver + 284784\n3   chromedriver                        0x000000010504af60 chromedriver + 585568\n4   chromedriver                        0x00000001050493f0 chromedriver + 578544\n5   chromedriver                        0x000000010504745c chromedriver + 570460\n6   chromedriver                        0x000000010504688c chromedriver + 567436\n7   chromedriver                        0x000000010503b4b8 chromedriver + 521400\n8   chromedriver                        0x000000010503aee8 chromedriver + 519912\n9   chromedriver                        0x000000010507f048 chromedriver + 798792\n10  chromedriver                        0x000000010503974c chromedriver + 513868\n11  chromedriver                        0x000000010503a044 chromedriver + 516164\n12  chromedriver                        0x000000010535ba04 chromedriver + 3799556\n13  chromedriver                        0x000000010535fee4 chromedriver + 3817188\n14  chromedriver                        0x0000000105344260 chromedriver + 3703392\n15  chromedriver                        0x0000000105360a2c chromedriver + 3820076\n16  chromedriver                        0x000000010533701c chromedriver + 3649564\n17  chromedriver                        0x000000010537de3c chromedriver + 3939900\n18  chromedriver                        0x000000010537dfb4 chromedriver + 3940276\n19  chromedriver                        0x000000010538e660 chromedriver + 4007520\n20  libsystem_pthread.dylib             0x000000018471d034 _pthread_start + 136\n21  libsystem_pthread.dylib             0x0000000184717e3c thread_start + 8\n"
     ]
    }
   ],
   "source": [
    "\n",
    "prev_oc_id = None\n",
    "oc_id = None\n",
    "for i in range(35):\n",
    "    cc_combobox_button.send_keys(Keys.DOWN)\n",
    "    cc_combobox_button.click()\n",
    "    time.sleep(1)\n",
    "    # keys_down (클릭한 상태에서 눌렀을 때 )\n",
    "    opened_course_button.click()\n",
    "    while (True):\n",
    "        opened_course_button.send_keys(Keys.DOWN)\n",
    "        opened_course_button.click()\n",
    "        oc_id = opened_course_combobox.find_element(By.TAG_NAME, \"input\").get_attribute(\"aria-activedescendant\")\n",
    "        if (prev_oc_id is not None and prev_oc_id == oc_id):\n",
    "            prev_oc_id = None\n",
    "            oc_id = None\n",
    "            break\n",
    "        # 검색하고 결과값 크롤링 => csv 파일에 넣기!\n",
    "        \n",
    "\n",
    "        # 검색\n",
    "        search_button.click()\n",
    "        time.sleep(3)\n",
    "        courses = get_courses()\n",
    "        search_nums = get_search_nums()\n",
    "        done = True \n",
    "        current_idx = 0\n",
    "        with open(\"course_data_please.csv\", \"a+\", newline='') as csv_file:\n",
    "            \n",
    "            writer = csv.DictWriter(csv_file, fieldnames=course_data_fieldnames)\n",
    "            writer.writeheader()\n",
    "            while done:\n",
    "                try:\n",
    "                    courses, scroll_origin = get_courses()\n",
    "                    if (current_idx == search_nums):\n",
    "                        done = False\n",
    "                    for course in courses:\n",
    "                        course_idx = int(course.get_attribute(\"aria-rowindex\"))\n",
    "                        if (course_idx > current_idx):\n",
    "                            try:\n",
    "                                writer.writerow(course_desc(course))\n",
    "                                current_idx += 1\n",
    "                            except ElementNotInteractableException:\n",
    "                                continue\n",
    "                    ActionChains(driver)\\\n",
    "                    .scroll_from_origin(scroll_origin, 0, 350)\\\n",
    "                    .perform()\n",
    "                    time.sleep(1)  # 스크롤이 완료될 때까지 잠시 대기\n",
    "            \n",
    "            \n",
    "                except StaleElementReferenceException:\n",
    "                    pass\n",
    "\n",
    "        print(\"Section Completed ✅\")\n",
    "\n",
    "\n",
    "        prev_oc_id = oc_id\n",
    "            \n"
   ]
  },
  {
   "cell_type": "markdown",
   "id": "487350cd",
   "metadata": {},
   "source": []
  },
  {
   "cell_type": "code",
   "execution_count": null,
   "id": "0a568143",
   "metadata": {},
   "outputs": [],
   "source": [
    "\n",
    "\n"
   ]
  }
 ],
 "metadata": {
  "kernelspec": {
   "display_name": "crawling-courses-kzuUj7UZ-py3.12",
   "language": "python",
   "name": "python3"
  },
  "language_info": {
   "codemirror_mode": {
    "name": "ipython",
    "version": 3
   },
   "file_extension": ".py",
   "mimetype": "text/x-python",
   "name": "python",
   "nbconvert_exporter": "python",
   "pygments_lexer": "ipython3",
   "version": "3.12.1"
  }
 },
 "nbformat": 4,
 "nbformat_minor": 5
}
