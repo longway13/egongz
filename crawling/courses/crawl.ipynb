{
 "cells": [
  {
   "cell_type": "code",
   "execution_count": 45,
   "metadata": {},
   "outputs": [],
   "source": [
    "from selenium import webdriver\n",
    "from selenium.webdriver.common.keys import Keys\n",
    "from selenium.webdriver.chrome.options import Options\n",
    "from selenium.webdriver.common.by import By\n",
    "from selenium.webdriver.support.ui import WebDriverWait\n",
    "from selenium.webdriver.support import expected_conditions as EC\n",
    "from selenium.webdriver.common.action_chains import ActionChains\n",
    "from selenium.webdriver.common.actions.wheel_input import ScrollOrigin\n",
    "from selenium.common.exceptions import StaleElementReferenceException\n",
    "import re\n",
    "import time\n",
    "import csv"
   ]
  },
  {
   "cell_type": "code",
   "execution_count": 46,
   "id": "1b75c73f",
   "metadata": {},
   "outputs": [],
   "source": [
    "driver = webdriver.Chrome()\n",
    "url = \"https://underwood1.yonsei.ac.kr/com/lgin/SsoCtr/initExtPageWork.do?link=handbList&locale=eng\"\n",
    "driver.get(url)\n"
   ]
  },
  {
   "cell_type": "code",
   "execution_count": 47,
   "id": "4dc96871",
   "metadata": {},
   "outputs": [],
   "source": [
    "# 대학(원) 분류 및 개설 학과 등등 조건 설정\n",
    "labels = driver.find_element(By.CLASS_NAME, \"cl-layout-content\")\n",
    "\n",
    "# 대학(원) 분류 선택 태그 id: uuid-5i\n",
    "classification_combobox = labels.find_element(By.ID, \"uuid-5i\")\n",
    "cc_combobox_button = classification_combobox.find_element(By.CLASS_NAME, \"cl-combobox-button\")\n",
    "opened_course_combobox = labels.find_element(By.ID, \"uuid-5k\")\n",
    "opened_course_button = opened_course_combobox.find_element(By.CLASS_NAME, \"cl-combobox-button\")\n",
    "\n",
    "# driver.execute_script(f'arguments[0].setAttribute(\"{attribute_name}\", \"{attribute_value}\")', element)\n",
    "\n",
    "\n",
    "# 개설학과 분류 선택 태그 id: uuid-5k\n"
   ]
  },
  {
   "cell_type": "code",
   "execution_count": 48,
   "id": "9627e3cd",
   "metadata": {},
   "outputs": [],
   "source": [
    "\n",
    "def get_courses():\n",
    "    parent_container = driver.find_element(By.CLASS_NAME, \"cl-grid-centersplit\")\n",
    "    child_elements = parent_container.find_elements(By.XPATH,\"./child::div\")[1]\n",
    "    child_elements = child_elements.find_element(By.XPATH,\"./child::div\")\n",
    "    child_elements = child_elements.find_element(By.XPATH,\"./child::div\")\n",
    "    child_elements = child_elements.find_element(By.XPATH,\"./child::div\")\n",
    "    child_elements = child_elements.find_element(By.XPATH,\"./child::div\")\n",
    "    scroll_origin = ScrollOrigin.from_element(child_elements)\n",
    "    courses = child_elements.find_elements(By.XPATH,'.//div[@role=\"row\"]')\n",
    "    return [courses, scroll_origin]\n",
    "    "
   ]
  },
  {
   "cell_type": "code",
   "execution_count": 49,
   "id": "dfa34223",
   "metadata": {},
   "outputs": [],
   "source": [
    "xpath_expression = f\"//*[contains(text(), '{\"조회\"}')]\"\n",
    "search_button = labels.find_elements(By.XPATH, xpath_expression)[0]\n",
    "\n",
    "\n",
    "# 8개씩 나오는데 내려가면서 다 봐야 함.     "
   ]
  },
  {
   "cell_type": "code",
   "execution_count": 50,
   "id": "e6eef002",
   "metadata": {},
   "outputs": [],
   "source": [
    "# 총건수\n",
    "def get_search_nums():\n",
    "    search_div = driver.find_element(By.XPATH, '//div[@aria-label[contains(., \"총건수\")]]')\n",
    "    search_nums = search_div.get_attribute(\"aria-label\")\n",
    "    search_nums =  re.search(r'\\[([\\d]+)\\]', search_nums)\n",
    "    search_nums = int(search_nums.group(1))\n",
    "    return search_nums"
   ]
  },
  {
   "cell_type": "code",
   "execution_count": 51,
   "id": "92079b1c",
   "metadata": {},
   "outputs": [],
   "source": [
    "# 추출 템플릿 및 dictionary 함수화 시켜야 함. \n",
    "def extract_course(course):\n",
    "    columns = course.find_elements(By.XPATH, \"./*\")\n",
    "    semester = columns[1].text\n",
    "    campus = columns[2].text\n",
    "    major = columns[3].text\n",
    "    grade = columns[4].text\n",
    "    subject_type = columns[5].text\n",
    "    session = columns[6].text\n",
    "    course_code = columns[7].text\n",
    "    credits = columns[12].text\n",
    "    course_name = columns[13].text\n",
    "    is_cancelled = columns[14].text\n",
    "    instructor = columns[15].text\n",
    "    schedule = columns[16].text\n",
    "    classroom = columns[17].text\n",
    "\n",
    "    \n",
    "\n",
    "    course_info = {\n",
    "        'semester': semester,\n",
    "        'campus': campus,\n",
    "        'major': major,\n",
    "        'grade': grade,\n",
    "        'subject_type': subject_type,\n",
    "        'session': session,\n",
    "        'course_code': course_code,\n",
    "        'credits': credits,\n",
    "        'course_name': course_name,\n",
    "        'is_cancelled': is_cancelled,\n",
    "        'instructor': instructor,\n",
    "        'schedule': schedule,\n",
    "        'classroom': classroom\n",
    "    }\n",
    "\n",
    "\n",
    "    return course_info\n"
   ]
  },
  {
   "cell_type": "code",
   "execution_count": 52,
   "id": "8bb72fe3",
   "metadata": {},
   "outputs": [],
   "source": [
    "fieldnames = ['semester',\n",
    "                'campus',\n",
    "                'major',\n",
    "                'grade',\n",
    "                'subject_type',\n",
    "                'session',\n",
    "                'course_code',\n",
    "                'credits',\n",
    "                'course_name',\n",
    "                'is_cancelled',\n",
    "                'instructor',\n",
    "                'schedule',\n",
    "                'classroom']"
   ]
  },
  {
   "cell_type": "code",
   "execution_count": null,
   "id": "8adea8b0",
   "metadata": {},
   "outputs": [],
   "source": []
  },
  {
   "cell_type": "code",
   "execution_count": 53,
   "id": "fede8f30",
   "metadata": {},
   "outputs": [
    {
     "name": "stdout",
     "output_type": "stream",
     "text": [
      "Section Completed ✅\n",
      "Section Completed ✅\n",
      "Section Completed ✅\n",
      "Section Completed ✅\n",
      "Section Completed ✅\n",
      "Section Completed ✅\n",
      "Section Completed ✅\n",
      "Section Completed ✅\n",
      "Section Completed ✅\n",
      "Section Completed ✅\n",
      "Section Completed ✅\n",
      "Section Completed ✅\n",
      "Section Completed ✅\n",
      "Section Completed ✅\n",
      "Section Completed ✅\n",
      "Section Completed ✅\n",
      "Section Completed ✅\n",
      "Section Completed ✅\n",
      "Section Completed ✅\n",
      "Section Completed ✅\n",
      "Section Completed ✅\n",
      "Section Completed ✅\n",
      "Section Completed ✅\n"
     ]
    },
    {
     "ename": "KeyboardInterrupt",
     "evalue": "",
     "output_type": "error",
     "traceback": [
      "\u001b[0;31m---------------------------------------------------------------------------\u001b[0m",
      "\u001b[0;31mKeyboardInterrupt\u001b[0m                         Traceback (most recent call last)",
      "Cell \u001b[0;32mIn[53], line 21\u001b[0m\n\u001b[1;32m     16\u001b[0m \u001b[38;5;66;03m# 검색하고 결과값 크롤링 => csv 파일에 넣기!\u001b[39;00m\n\u001b[1;32m     17\u001b[0m \n\u001b[1;32m     18\u001b[0m \n\u001b[1;32m     19\u001b[0m \u001b[38;5;66;03m# 검색\u001b[39;00m\n\u001b[1;32m     20\u001b[0m search_button\u001b[38;5;241m.\u001b[39mclick()\n\u001b[0;32m---> 21\u001b[0m \u001b[43mtime\u001b[49m\u001b[38;5;241;43m.\u001b[39;49m\u001b[43msleep\u001b[49m\u001b[43m(\u001b[49m\u001b[38;5;241;43m3\u001b[39;49m\u001b[43m)\u001b[49m\n\u001b[1;32m     22\u001b[0m courses \u001b[38;5;241m=\u001b[39m get_courses()\n\u001b[1;32m     23\u001b[0m search_nums \u001b[38;5;241m=\u001b[39m get_search_nums()\n",
      "\u001b[0;31mKeyboardInterrupt\u001b[0m: "
     ]
    }
   ],
   "source": [
    "\n",
    "prev_oc_id = None\n",
    "oc_id = None\n",
    "for i in range(35):\n",
    "    cc_combobox_button.send_keys(Keys.DOWN)\n",
    "    \n",
    "    # keys_down (클릭한 상태에서 눌렀을 때 )\n",
    "    opened_course_button.click()\n",
    "    while (True):\n",
    "        opened_course_button.send_keys(Keys.DOWN)\n",
    "        opened_course_button.click()\n",
    "        oc_id = opened_course_combobox.find_element(By.TAG_NAME, \"input\").get_attribute(\"aria-activedescendant\")\n",
    "        if (prev_oc_id is not None and prev_oc_id == oc_id):\n",
    "            prev_oc_id = None\n",
    "            oc_id = None\n",
    "            break\n",
    "        # 검색하고 결과값 크롤링 => csv 파일에 넣기!\n",
    "        \n",
    "\n",
    "        # 검색\n",
    "        search_button.click()\n",
    "        time.sleep(3)\n",
    "        courses = get_courses()\n",
    "        search_nums = get_search_nums()\n",
    "        done = True\n",
    "        current_idx = 0\n",
    "        with open(\"output.csv\", \"a+\", newline='') as csv_file:\n",
    "            \n",
    "            writer = csv.DictWriter(csv_file, fieldnames=fieldnames)\n",
    "            writer.writeheader()\n",
    "            while done:\n",
    "                try:\n",
    "                    courses, scroll_origin = get_courses()\n",
    "                    if (current_idx == search_nums):\n",
    "                        done = False\n",
    "                    for course in courses:\n",
    "                        course_idx = int(course.get_attribute(\"aria-rowindex\"))\n",
    "                        if (course_idx > current_idx):\n",
    "                            writer.writerow(extract_course(course))\n",
    "                            current_idx += 1\n",
    "                    ActionChains(driver)\\\n",
    "                    .scroll_from_origin(scroll_origin, 0, 480)\\\n",
    "                    .perform()\n",
    "                    time.sleep(1)  # 스크롤이 완료될 때까지 잠시 대기\n",
    "            \n",
    "            \n",
    "                except StaleElementReferenceException:\n",
    "                    pass\n",
    "\n",
    "        print(\"Section Completed ✅\")\n",
    "\n",
    "\n",
    "        prev_oc_id = oc_id\n",
    "            \n"
   ]
  },
  {
   "cell_type": "code",
   "execution_count": null,
   "id": "0a568143",
   "metadata": {},
   "outputs": [],
   "source": [
    "\n",
    "\n"
   ]
  }
 ],
 "metadata": {
  "kernelspec": {
   "display_name": "crawling-courses-kzuUj7UZ-py3.12",
   "language": "python",
   "name": "python3"
  },
  "language_info": {
   "codemirror_mode": {
    "name": "ipython",
    "version": 3
   },
   "file_extension": ".py",
   "mimetype": "text/x-python",
   "name": "python",
   "nbconvert_exporter": "python",
   "pygments_lexer": "ipython3",
   "version": "3.12.1"
  }
 },
 "nbformat": 4,
 "nbformat_minor": 5
}
